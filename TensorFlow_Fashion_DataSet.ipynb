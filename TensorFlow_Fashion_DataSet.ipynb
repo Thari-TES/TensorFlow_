{
  "nbformat": 4,
  "nbformat_minor": 0,
  "metadata": {
    "colab": {
      "provenance": [],
      "authorship_tag": "ABX9TyO5fFW4m+kKC5fURiCp2za9",
      "include_colab_link": true
    },
    "kernelspec": {
      "name": "python3",
      "display_name": "Python 3"
    },
    "language_info": {
      "name": "python"
    }
  },
  "cells": [
    {
      "cell_type": "markdown",
      "metadata": {
        "id": "view-in-github",
        "colab_type": "text"
      },
      "source": [
        "<a href=\"https://colab.research.google.com/github/Thari-TES/TensorFlow_/blob/main/TensorFlow_Fashion_DataSet.ipynb\" target=\"_parent\"><img src=\"https://colab.research.google.com/assets/colab-badge.svg\" alt=\"Open In Colab\"/></a>"
      ]
    },
    {
      "cell_type": "code",
      "execution_count": 1,
      "metadata": {
        "id": "u4AI72sIc5ca"
      },
      "outputs": [],
      "source": [
        "import pandas as pd\n",
        "import numpy as np\n",
        "import tensorflow as tf\n",
        "from tensorflow import keras\n",
        "import matplotlib.pyplot as plt"
      ]
    },
    {
      "cell_type": "code",
      "source": [
        "#Load Fashion-MNIST Dataset\n",
        "\n",
        "fashion_mnist=tf.keras.datasets.fashion_mnist"
      ],
      "metadata": {
        "id": "11Eg4WmxdD0k"
      },
      "execution_count": 2,
      "outputs": []
    },
    {
      "cell_type": "code",
      "source": [
        "#train dataset\n",
        "(train_images, train_labels) , (test_images, test_labels) = fashion_mnist.load_data()"
      ],
      "metadata": {
        "colab": {
          "base_uri": "https://localhost:8080/"
        },
        "id": "ITFoIm37daAK",
        "outputId": "5ae0d0e6-8b4a-493c-805e-fdbb676167da"
      },
      "execution_count": 3,
      "outputs": [
        {
          "output_type": "stream",
          "name": "stdout",
          "text": [
            "Downloading data from https://storage.googleapis.com/tensorflow/tf-keras-datasets/train-labels-idx1-ubyte.gz\n",
            "29515/29515 [==============================] - 0s 0us/step\n",
            "Downloading data from https://storage.googleapis.com/tensorflow/tf-keras-datasets/train-images-idx3-ubyte.gz\n",
            "26421880/26421880 [==============================] - 0s 0us/step\n",
            "Downloading data from https://storage.googleapis.com/tensorflow/tf-keras-datasets/t10k-labels-idx1-ubyte.gz\n",
            "5148/5148 [==============================] - 0s 0us/step\n",
            "Downloading data from https://storage.googleapis.com/tensorflow/tf-keras-datasets/t10k-images-idx3-ubyte.gz\n",
            "4422102/4422102 [==============================] - 0s 0us/step\n"
          ]
        }
      ]
    },
    {
      "cell_type": "code",
      "source": [
        "# You can put between 0 to 59999 here\n",
        "index = 11\n",
        "\n",
        "# Set number of characters per row when printing\n",
        "np.set_printoptions(linewidth=320)\n",
        "\n",
        "# Print the label and image\n",
        "print(f'LABEL: {train_labels[index]}')\n",
        "print(f'\\nIMAGE PIXEL ARRAY:\\n {train_images[index]}')\n",
        "\n",
        "# Visualize the image\n",
        "plt.imshow(train_images[index])"
      ],
      "metadata": {
        "id": "ug2OYadidnJN",
        "colab": {
          "base_uri": "https://localhost:8080/",
          "height": 821
        },
        "outputId": "585be0f7-ddd3-4069-dc3b-3b22be616ca5"
      },
      "execution_count": 8,
      "outputs": [
        {
          "output_type": "stream",
          "name": "stdout",
          "text": [
            "LABEL: 9\n",
            "\n",
            "IMAGE PIXEL ARRAY:\n",
            " [[  0   0   0   0   0   0   0   0   0   0   0   0   0   0  39 111  93  85  27   0   0   0   0   0   1   0   0   0]\n",
            " [  0   0   0   0   0   0   0   0   0   0   0   1   0   0 190 244 248 255 255 155 202 212 150   9   0   3   0   0]\n",
            " [  0   0   0   0   0   0   0   0   0   0   0   2   0   0 213 227 233 227 243 246 255 250 255 146   0   9   0   0]\n",
            " [  0   0   0   0   0   0   0   0   0   0   0   4   0   6 244 233 236 244 232 214 248 242 251  33   0   7   0   0]\n",
            " [  0   0   0   0   0   0   0   0   0   0   1   6   0  72 255 231 239 244 237 226 255 252 207  44  24   0   2   0]\n",
            " [  0   0   0   0   0   0   0   0   0   0   0   0   0 125 231 215 253 252 234 246 254 239 128 114  63   0   3   0]\n",
            " [  0   0   0   0   0   0   0   0   0   0   1   0   0 189 230 198 185 219 218 255 206 255 133  31   0   0   0   0]\n",
            " [  0   0   0   0   0   0   0   0   0   0   4   0   0 224 241 255 236 237 223 191 219 166   0   0   1   0   0   0]\n",
            " [  0   0   0   0   0   0   0   0   0   0   1   0  61 245 202 220 237 220 242 199 255 178   0   0   1   0   0   0]\n",
            " [  0   0   0   0   0   0   0   0   0   0   0   0 153 247 205 202 212 207 225 190 255  93 141   0   0   1   0   0]\n",
            " [  0   0   0   0   0   0   0   0   0   3   0   0 222 228 233 243 248 242 242 209 255   0  90 177   0   0   0   0]\n",
            " [  0   0   0   0   0   0   0   0   0   2   0  46 255 221 235 235 213 248 220 206 255 225  28 255   0   0   0   0]\n",
            " [  0   0   0   0   0   0   0   0   0   0   0 116 250 215 227 231 226 255 195 216 250 255 159 255 160   0   0   0]\n",
            " [  0   0   0   0   0   0   0   0   3   0   7 226 202 241 247 241 228 255 175 229 252 241 255 224 224  76   0   0]\n",
            " [  0   0   0   0   0   0   0   0   0   0 131 255 210 212 251 252 229 255 175 227 254 239 245 230 223 149  90   0]\n",
            " [  0   0   0   0   0   0   0   2   0   0 227 238 238 225 205 242 246 223 187 221 254 238 255 233 156   0   0   0]\n",
            " [  0   0   0   0   0   1   0   0   0  77 255 239 248 252 237 195 201 232 190 205 252 235 255 199   0   0   0   0]\n",
            " [  0   0   0   0   0   0   0   0   0 207 223 186 215 223 255 255 217 229 254 251 244 240 255 207   0   0   1   0]\n",
            " [  0   0   0   0   0   0   2   0  53 254 234 239 222 190 187 200 250 237 195 251 250 237 253 192   0   0   0   0]\n",
            " [  0   0   0   2   4   2   0   0 190 247 233 231 250 254 247 208 208 231 226 207 246 235 248 175   0   0   0   0]\n",
            " [  0   1   6   0   0   0   0 117 245 184 242 238 235 238 244 233 255 255  99 155 255 233 252 154   0   0   0   0]\n",
            " [  0   0   0   0   3  33 141 255 197 208 184 234 246 240 243 231 255  77   0 172 255 231 253 139   0   1   0   0]\n",
            " [  0   0  84 243 246 255 254 240 241 190 229 198 243 244 238 255  80   0   0 176 255 231 252 113   0   3   0   0]\n",
            " [  0  25 223 239 230 231 231 234 241 247 191 225 230 252 255 173   0   0   0 170 255 228 251  97   0   4   0   0]\n",
            " [  0 103 241 217 228 230 238 241 238 248 244 216 172 223 255   0   0   7   0 159 255 234 251  74   0   4   0   0]\n",
            " [  0   9 188 229 242 241 243 240 236 238 241 251 237 253  64   0   0   3   0 154 255 229 255  62   0   7   0   0]\n",
            " [  0   0   0  28 123 199 249 255 255 255 255 255 245  72   0   0   0   3   0 117 255 245 220  19   0   4   0   0]\n",
            " [  0   0   0   0   0   0   0  38  72  89  71  37   0   0   0   0   0   3   0   0  64  42  24   0   0   0   0   0]]\n"
          ]
        },
        {
          "output_type": "execute_result",
          "data": {
            "text/plain": [
              "<matplotlib.image.AxesImage at 0x7f2e4c77f430>"
            ]
          },
          "metadata": {},
          "execution_count": 8
        },
        {
          "output_type": "display_data",
          "data": {
            "text/plain": [
              "<Figure size 432x288 with 1 Axes>"
            ],
            "image/png": "[encoded data removed]"
          },
          "metadata": {
            "needs_background": "light"
          }
        }
      ]
    },
    {
      "cell_type": "code",
      "source": [
        "# Normalize the pixel values of the train and test images\n",
        "train_images  = train_images / 255.0\n",
        "test_images = test_images / 255.0"
      ],
      "metadata": {
        "id": "2N4vlsQncVQs"
      },
      "execution_count": 10,
      "outputs": []
    },
    {
      "cell_type": "code",
      "source": [
        "model = tf.keras.models.Sequential([tf.keras.layers.Flatten(), \n",
        "                                    tf.keras.layers.Dense(128, activation=tf.nn.relu), \n",
        "                                    tf.keras.layers.Dense(10, activation=tf.nn.softmax)])"
      ],
      "metadata": {
        "id": "vPKZL8CFgNO6"
      },
      "execution_count": 12,
      "outputs": []
    },
    {
      "cell_type": "code",
      "source": [
        "# Declare sample inputs and convert to a tensor\n",
        "inputs = np.array([[1.0, 3.0, 4.0, 2.0]])\n",
        "inputs = tf.convert_to_tensor(inputs)\n",
        "print(f'input to softmax function: {inputs.numpy()}')\n",
        "\n",
        "# Feed the inputs to a softmax activation function\n",
        "outputs = tf.keras.activations.softmax(inputs)\n",
        "print(f'output of softmax function: {outputs.numpy()}')\n",
        "\n",
        "# Get the sum of all values after the softmax\n",
        "sum = tf.reduce_sum(outputs)\n",
        "print(f'sum of outputs: {sum}')\n",
        "\n",
        "# Get the index with highest value\n",
        "prediction = np.argmax(outputs)\n",
        "print(f'class with highest probability: {prediction}')"
      ],
      "metadata": {
        "colab": {
          "base_uri": "https://localhost:8080/"
        },
        "id": "tSmATch0gfKN",
        "outputId": "aca47ff6-cafd-4c2f-b073-c9de02409fe2"
      },
      "execution_count": 13,
      "outputs": [
        {
          "output_type": "stream",
          "name": "stdout",
          "text": [
            "input to softmax function: [[1. 3. 4. 2.]]\n",
            "output of softmax function: [[0.0320586  0.23688282 0.64391426 0.08714432]]\n",
            "sum of outputs: 1.0\n",
            "class with highest probability: 2\n"
          ]
        }
      ]
    },
    {
      "cell_type": "code",
      "source": [],
      "metadata": {
        "id": "XopaMp6Pgs3S"
      },
      "execution_count": null,
      "outputs": []
    }
  ]
}