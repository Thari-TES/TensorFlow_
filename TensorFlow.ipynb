{
  "nbformat": 4,
  "nbformat_minor": 0,
  "metadata": {
    "colab": {
      "provenance": [],
      "authorship_tag": "ABX9TyOJpfvaQu+qqGZujG9mE4yj",
      "include_colab_link": true
    },
    "kernelspec": {
      "name": "python3",
      "display_name": "Python 3"
    },
    "language_info": {
      "name": "python"
    }
  },
  "cells": [
    {
      "cell_type": "markdown",
      "metadata": {
        "id": "view-in-github",
        "colab_type": "text"
      },
      "source": [
        "<a href=\"https://colab.research.google.com/github/Thari-TES/TensorFlow_/blob/main/TensorFlow.ipynb\" target=\"_parent\"><img src=\"https://colab.research.google.com/assets/colab-badge.svg\" alt=\"Open In Colab\"/></a>"
      ]
    },
    {
      "cell_type": "code",
      "execution_count": null,
      "metadata": {
        "colab": {
          "base_uri": "https://localhost:8080/"
        },
        "id": "zJozneSLuPNP",
        "outputId": "7aee7cd6-a955-4951-9307-f6a26b6bfe09"
      },
      "outputs": [
        {
          "output_type": "stream",
          "name": "stdout",
          "text": [
            "2.9.2\n"
          ]
        }
      ],
      "source": [
        "import tensorflow as tf\n",
        "import numpy as np\n",
        "from tensorflow import keras\n",
        "\n",
        "print(tf.__version__)"
      ]
    },
    {
      "cell_type": "code",
      "source": [
        "model=tf.keras.Sequential([keras.layers.Dense(units=1, input_shape=[1])])"
      ],
      "metadata": {
        "id": "S_f2Up4fxXeQ"
      },
      "execution_count": null,
      "outputs": []
    },
    {
      "cell_type": "code",
      "source": [
        "model.compile(optimizer='sgd', loss='mean_squared_error')"
      ],
      "metadata": {
        "id": "TyE-ju5ayPjo"
      },
      "execution_count": null,
      "outputs": []
    },
    {
      "cell_type": "code",
      "source": [
        "xs = np.array([-1.0,  0.0, 1.0, 2.0, 3.0, 4.0], dtype=float)\n",
        "ys = np.array([-3.0, -1.0, 1.0, 3.0, 5.0, 7.0], dtype=float)"
      ],
      "metadata": {
        "id": "3TFKly8qySB1"
      },
      "execution_count": null,
      "outputs": []
    },
    {
      "cell_type": "code",
      "source": [
        "model.fit(xs, ys, epochs=1000)"
      ],
      "metadata": {
        "id": "zRUOXJ5zymSj"
      },
      "execution_count": null,
      "outputs": []
    },
    {
      "cell_type": "code",
      "source": [
        "print(model.predict([10.0]))"
      ],
      "metadata": {
        "colab": {
          "base_uri": "https://localhost:8080/"
        },
        "id": "zmzO6bEwyooS",
        "outputId": "cd8d556d-c354-483f-f359-55bc04a4dab6"
      },
      "execution_count": null,
      "outputs": [
        {
          "output_type": "stream",
          "name": "stdout",
          "text": [
            "1/1 [==============================] - 0s 81ms/step\n",
            "[[18.999908]]\n"
          ]
        }
      ]
    },
    {
      "cell_type": "code",
      "source": [
        "# GRADED FUNCTION: house_model\n",
        "def house_model():\n",
        "    ### START CODE HERE\n",
        "    \n",
        "    # Define input and output tensors with the values for houses with 1 up to 6 bedrooms\n",
        "    # Hint: Remember to explictly set the dtype as float\n",
        "    xs = np.array([0,1,2], dtype=float)\n",
        "    ys = np.array([50,100,150], dtype=float)\n",
        "    \n",
        "    # Define your model (should be a model with 1 dense layer and 1 unit)\n",
        "    model = tf.keras.Sequential([keras.layers.Dense(units=1, input_shape=[1])])\n",
        "    \n",
        "    # Compile your model\n",
        "    # Set the optimizer to Stochastic Gradient Descent\n",
        "    # and use Mean Squared Error as the loss function\n",
        "    model.compile(optimizer='sgd', loss='mean_squared_error')\n",
        "    \n",
        "    # Train your model for 1000 epochs by feeding the i/o tensors\n",
        "    model.fit(xs, ys, epochs=1000)\n",
        "    \n",
        "    ### END CODE HERE\n",
        "    return model"
      ],
      "metadata": {
        "id": "eNjUOuydyugf"
      },
      "execution_count": null,
      "outputs": []
    },
    {
      "cell_type": "code",
      "source": [
        "model = house_model()"
      ],
      "metadata": {
        "id": "j_737sI15czD"
      },
      "execution_count": null,
      "outputs": []
    },
    {
      "cell_type": "code",
      "source": [
        "new_x = 7.0\n",
        "prediction = model.predict([new_x])[0]\n",
        "print(prediction)"
      ],
      "metadata": {
        "colab": {
          "base_uri": "https://localhost:8080/"
        },
        "id": "YKuE0HDO5ebC",
        "outputId": "a2090b20-d989-41c6-a77d-703f83e1eb41"
      },
      "execution_count": null,
      "outputs": [
        {
          "output_type": "stream",
          "name": "stdout",
          "text": [
            "1/1 [==============================] - 0s 50ms/step\n",
            "[400.14517]\n"
          ]
        }
      ]
    },
    {
      "cell_type": "code",
      "source": [],
      "metadata": {
        "id": "C3eIOX1Y_uki"
      },
      "execution_count": null,
      "outputs": []
    }
  ]
}